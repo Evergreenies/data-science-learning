{
 "cells": [
  {
   "cell_type": "code",
   "execution_count": 1,
   "id": "interesting-sherman",
   "metadata": {},
   "outputs": [],
   "source": [
    "import os\n",
    "\n",
    "from pyspark.sql import SparkSession\n",
    "from pyspark.sql.functions import *"
   ]
  },
  {
   "cell_type": "code",
   "execution_count": 2,
   "id": "meaningful-spice",
   "metadata": {},
   "outputs": [
    {
     "data": {
      "text/html": [
       "\n",
       "            <div>\n",
       "                <p><b>SparkSession - in-memory</b></p>\n",
       "                \n",
       "        <div>\n",
       "            <p><b>SparkContext</b></p>\n",
       "\n",
       "            <p><a href=\"http://Suyog.plabs.com:4041\">Spark UI</a></p>\n",
       "\n",
       "            <dl>\n",
       "              <dt>Version</dt>\n",
       "                <dd><code>v3.0.2</code></dd>\n",
       "              <dt>Master</dt>\n",
       "                <dd><code>local[*]</code></dd>\n",
       "              <dt>AppName</dt>\n",
       "                <dd><code>LoanStat2018Q4</code></dd>\n",
       "            </dl>\n",
       "        </div>\n",
       "        \n",
       "            </div>\n",
       "        "
      ],
      "text/plain": [
       "<pyspark.sql.session.SparkSession at 0x16c39f0>"
      ]
     },
     "execution_count": 2,
     "metadata": {},
     "output_type": "execute_result"
    }
   ],
   "source": [
    "ss = SparkSession.builder.master('local[*]').appName('LoanStat2018Q4').getOrCreate()\n",
    "sc = ss.sparkContext\n",
    "ss"
   ]
  },
  {
   "cell_type": "code",
   "execution_count": 3,
   "id": "unnecessary-consequence",
   "metadata": {},
   "outputs": [],
   "source": [
    "loan_stat_path = f'{os.path.abspath(os.path.curdir)}/data/LoanStats_2018Q4.csv'\n",
    "loan_df = ss.read.csv(loan_stat_path, inferSchema=True, header=True)"
   ]
  },
  {
   "cell_type": "code",
   "execution_count": 8,
   "id": "blond-client",
   "metadata": {},
   "outputs": [
    {
     "data": {
      "text/plain": [
       "128416"
      ]
     },
     "execution_count": 8,
     "metadata": {},
     "output_type": "execute_result"
    }
   ],
   "source": [
    "loan_df.count()"
   ]
  },
  {
   "cell_type": "code",
   "execution_count": 9,
   "id": "operating-spotlight",
   "metadata": {},
   "outputs": [
    {
     "name": "stdout",
     "output_type": "stream",
     "text": [
      "root\n",
      " |-- id: string (nullable = true)\n",
      " |-- member_id: string (nullable = true)\n",
      " |-- loan_amnt: integer (nullable = true)\n",
      " |-- funded_amnt: integer (nullable = true)\n",
      " |-- funded_amnt_inv: double (nullable = true)\n",
      " |-- term: string (nullable = true)\n",
      " |-- int_rate: string (nullable = true)\n",
      " |-- installment: double (nullable = true)\n",
      " |-- grade: string (nullable = true)\n",
      " |-- sub_grade: string (nullable = true)\n",
      " |-- emp_title: string (nullable = true)\n",
      " |-- emp_length: string (nullable = true)\n",
      " |-- home_ownership: string (nullable = true)\n",
      " |-- annual_inc: double (nullable = true)\n",
      " |-- verification_status: string (nullable = true)\n",
      " |-- issue_d: string (nullable = true)\n",
      " |-- loan_status: string (nullable = true)\n",
      " |-- pymnt_plan: string (nullable = true)\n",
      " |-- url: string (nullable = true)\n",
      " |-- desc: string (nullable = true)\n",
      " |-- purpose: string (nullable = true)\n",
      " |-- title: string (nullable = true)\n",
      " |-- zip_code: string (nullable = true)\n",
      " |-- addr_state: string (nullable = true)\n",
      " |-- dti: double (nullable = true)\n",
      " |-- delinq_2yrs: integer (nullable = true)\n",
      " |-- earliest_cr_line: string (nullable = true)\n",
      " |-- inq_last_6mths: integer (nullable = true)\n",
      " |-- mths_since_last_delinq: integer (nullable = true)\n",
      " |-- mths_since_last_record: integer (nullable = true)\n",
      " |-- open_acc: integer (nullable = true)\n",
      " |-- pub_rec: integer (nullable = true)\n",
      " |-- revol_bal: integer (nullable = true)\n",
      " |-- revol_util: string (nullable = true)\n",
      " |-- total_acc: integer (nullable = true)\n",
      " |-- initial_list_status: string (nullable = true)\n",
      " |-- out_prncp: double (nullable = true)\n",
      " |-- out_prncp_inv: double (nullable = true)\n",
      " |-- total_pymnt: double (nullable = true)\n",
      " |-- total_pymnt_inv: double (nullable = true)\n",
      " |-- total_rec_prncp: double (nullable = true)\n",
      " |-- total_rec_int: double (nullable = true)\n",
      " |-- total_rec_late_fee: double (nullable = true)\n",
      " |-- recoveries: double (nullable = true)\n",
      " |-- collection_recovery_fee: double (nullable = true)\n",
      " |-- last_pymnt_d: string (nullable = true)\n",
      " |-- last_pymnt_amnt: double (nullable = true)\n",
      " |-- next_pymnt_d: string (nullable = true)\n",
      " |-- last_credit_pull_d: string (nullable = true)\n",
      " |-- collections_12_mths_ex_med: integer (nullable = true)\n",
      " |-- mths_since_last_major_derog: integer (nullable = true)\n",
      " |-- policy_code: integer (nullable = true)\n",
      " |-- application_type: string (nullable = true)\n",
      " |-- annual_inc_joint: double (nullable = true)\n",
      " |-- dti_joint: double (nullable = true)\n",
      " |-- verification_status_joint: string (nullable = true)\n",
      " |-- acc_now_delinq: integer (nullable = true)\n",
      " |-- tot_coll_amt: integer (nullable = true)\n",
      " |-- tot_cur_bal: integer (nullable = true)\n",
      " |-- open_acc_6m: integer (nullable = true)\n",
      " |-- open_act_il: integer (nullable = true)\n",
      " |-- open_il_12m: integer (nullable = true)\n",
      " |-- open_il_24m: integer (nullable = true)\n",
      " |-- mths_since_rcnt_il: integer (nullable = true)\n",
      " |-- total_bal_il: integer (nullable = true)\n",
      " |-- il_util: integer (nullable = true)\n",
      " |-- open_rv_12m: integer (nullable = true)\n",
      " |-- open_rv_24m: integer (nullable = true)\n",
      " |-- max_bal_bc: integer (nullable = true)\n",
      " |-- all_util: integer (nullable = true)\n",
      " |-- total_rev_hi_lim: integer (nullable = true)\n",
      " |-- inq_fi: integer (nullable = true)\n",
      " |-- total_cu_tl: integer (nullable = true)\n",
      " |-- inq_last_12m: integer (nullable = true)\n",
      " |-- acc_open_past_24mths: integer (nullable = true)\n",
      " |-- avg_cur_bal: integer (nullable = true)\n",
      " |-- bc_open_to_buy: integer (nullable = true)\n",
      " |-- bc_util: double (nullable = true)\n",
      " |-- chargeoff_within_12_mths: integer (nullable = true)\n",
      " |-- delinq_amnt: integer (nullable = true)\n",
      " |-- mo_sin_old_il_acct: integer (nullable = true)\n",
      " |-- mo_sin_old_rev_tl_op: integer (nullable = true)\n",
      " |-- mo_sin_rcnt_rev_tl_op: integer (nullable = true)\n",
      " |-- mo_sin_rcnt_tl: integer (nullable = true)\n",
      " |-- mort_acc: integer (nullable = true)\n",
      " |-- mths_since_recent_bc: integer (nullable = true)\n",
      " |-- mths_since_recent_bc_dlq: integer (nullable = true)\n",
      " |-- mths_since_recent_inq: integer (nullable = true)\n",
      " |-- mths_since_recent_revol_delinq: integer (nullable = true)\n",
      " |-- num_accts_ever_120_pd: integer (nullable = true)\n",
      " |-- num_actv_bc_tl: integer (nullable = true)\n",
      " |-- num_actv_rev_tl: integer (nullable = true)\n",
      " |-- num_bc_sats: integer (nullable = true)\n",
      " |-- num_bc_tl: integer (nullable = true)\n",
      " |-- num_il_tl: integer (nullable = true)\n",
      " |-- num_op_rev_tl: integer (nullable = true)\n",
      " |-- num_rev_accts: integer (nullable = true)\n",
      " |-- num_rev_tl_bal_gt_0: integer (nullable = true)\n",
      " |-- num_sats: integer (nullable = true)\n",
      " |-- num_tl_120dpd_2m: integer (nullable = true)\n",
      " |-- num_tl_30dpd: integer (nullable = true)\n",
      " |-- num_tl_90g_dpd_24m: integer (nullable = true)\n",
      " |-- num_tl_op_past_12m: integer (nullable = true)\n",
      " |-- pct_tl_nvr_dlq: double (nullable = true)\n",
      " |-- percent_bc_gt_75: double (nullable = true)\n",
      " |-- pub_rec_bankruptcies: integer (nullable = true)\n",
      " |-- tax_liens: integer (nullable = true)\n",
      " |-- tot_hi_cred_lim: integer (nullable = true)\n",
      " |-- total_bal_ex_mort: integer (nullable = true)\n",
      " |-- total_bc_limit: integer (nullable = true)\n",
      " |-- total_il_high_credit_limit: integer (nullable = true)\n",
      " |-- revol_bal_joint: integer (nullable = true)\n",
      " |-- sec_app_earliest_cr_line: string (nullable = true)\n",
      " |-- sec_app_inq_last_6mths: integer (nullable = true)\n",
      " |-- sec_app_mort_acc: integer (nullable = true)\n",
      " |-- sec_app_open_acc: integer (nullable = true)\n",
      " |-- sec_app_revol_util: double (nullable = true)\n",
      " |-- sec_app_open_act_il: integer (nullable = true)\n",
      " |-- sec_app_num_rev_accts: integer (nullable = true)\n",
      " |-- sec_app_chargeoff_within_12_mths: integer (nullable = true)\n",
      " |-- sec_app_collections_12_mths_ex_med: integer (nullable = true)\n",
      " |-- sec_app_mths_since_last_major_derog: integer (nullable = true)\n",
      " |-- hardship_flag: string (nullable = true)\n",
      " |-- hardship_type: string (nullable = true)\n",
      " |-- hardship_reason: string (nullable = true)\n",
      " |-- hardship_status: string (nullable = true)\n",
      " |-- deferral_term: integer (nullable = true)\n",
      " |-- hardship_amount: double (nullable = true)\n",
      " |-- hardship_start_date: string (nullable = true)\n",
      " |-- hardship_end_date: string (nullable = true)\n",
      " |-- payment_plan_start_date: string (nullable = true)\n",
      " |-- hardship_length: integer (nullable = true)\n",
      " |-- hardship_dpd: integer (nullable = true)\n",
      " |-- hardship_loan_status: string (nullable = true)\n",
      " |-- orig_projected_additional_accrued_interest: double (nullable = true)\n",
      " |-- hardship_payoff_balance_amount: double (nullable = true)\n",
      " |-- hardship_last_payment_amount: double (nullable = true)\n",
      " |-- disbursement_method: string (nullable = true)\n",
      " |-- debt_settlement_flag: string (nullable = true)\n",
      " |-- debt_settlement_flag_date: string (nullable = true)\n",
      " |-- settlement_status: string (nullable = true)\n",
      " |-- settlement_date: string (nullable = true)\n",
      " |-- settlement_amount: integer (nullable = true)\n",
      " |-- settlement_percentage: double (nullable = true)\n",
      " |-- settlement_term: integer (nullable = true)\n",
      "\n"
     ]
    }
   ],
   "source": [
    "loan_df.printSchema()"
   ]
  },
  {
   "cell_type": "code",
   "execution_count": 16,
   "id": "identified-standard",
   "metadata": {},
   "outputs": [],
   "source": [
    "df_sel = loan_df.select(\n",
    "    'term', 'home_ownership', 'grade', 'purpose', 'int_rate', 'addr_state', 'loan_status', \n",
    "    'application_type', 'loan_amnt', 'emp_length', 'annual_inc', 'dti', 'delinq_2yrs', 'revol_util',\n",
    "    'total_acc', 'num_tl_90g_dpd_24m', 'dti_joint'\n",
    ")"
   ]
  },
  {
   "cell_type": "code",
   "execution_count": 20,
   "id": "junior-hardware",
   "metadata": {},
   "outputs": [
    {
     "name": "stdout",
     "output_type": "stream",
     "text": [
      "+-------+----------+--------------+------+--------+--------+----------+------------------+----------------+------------------+----------+------------------+------------------+-------------------+----------+------------------+--------------------+------------------+\n",
      "|summary|      term|home_ownership| grade| purpose|int_rate|addr_state|       loan_status|application_type|         loan_amnt|emp_length|        annual_inc|               dti|        delinq_2yrs|revol_util|         total_acc|  num_tl_90g_dpd_24m|         dti_joint|\n",
      "+-------+----------+--------------+------+--------+--------+----------+------------------+----------------+------------------+----------+------------------+------------------+-------------------+----------+------------------+--------------------+------------------+\n",
      "|  count|    128412|        128412|128412|  128412|  128412|    128412|            128412|          128412|            128412|    128412|            128412|            128175|             128412|    128256|            128412|              128412|             16782|\n",
      "|   mean|      null|          null|  null|    null|    null|      null|              null|            null| 15971.32102139987|      null|  82797.3278609476|19.933177530719757|0.22783696227766875|      null|22.677413325857398|0.059488209824626985|19.226602312000967|\n",
      "| stddev|      null|          null|  null|    null|    null|      null|              null|            null|10150.384232741908|      null|108298.46579150065|20.143542243475515| 0.7337929617806063|      null|12.129215673024758| 0.41065173659442356|  8.14163126459557|\n",
      "|    min| 36 months|           ANY|     A|     car|  10.08%|        AK|       Charged Off|      Individual|              1000|    1 year|               0.0|               0.0|                  0|        0%|                 2|                   0|               0.0|\n",
      "|    max| 60 months|          RENT|     G|vacation|   8.81%|        WY|Late (31-120 days)|       Joint App|             40000|       n/a|         9757200.0|             999.0|                 24|    99.90%|               160|                  23|             39.99|\n",
      "+-------+----------+--------------+------+--------+--------+----------+------------------+----------------+------------------+----------+------------------+------------------+-------------------+----------+------------------+--------------------+------------------+\n",
      "\n"
     ]
    }
   ],
   "source": [
    "df_sel.describe().show()"
   ]
  },
  {
   "cell_type": "code",
   "execution_count": 21,
   "id": "characteristic-frequency",
   "metadata": {},
   "outputs": [
    {
     "name": "stdout",
     "output_type": "stream",
     "text": [
      "+-------+------------------+----------+------------------+------------------+-------------------+----------+------------------+\n",
      "|summary|         loan_amnt|emp_length|        annual_inc|               dti|        delinq_2yrs|revol_util|         total_acc|\n",
      "+-------+------------------+----------+------------------+------------------+-------------------+----------+------------------+\n",
      "|  count|            128412|    128412|            128412|            128175|             128412|    128256|            128412|\n",
      "|   mean| 15971.32102139987|      null|  82797.3278609476|19.933177530719757|0.22783696227766875|      null|22.677413325857398|\n",
      "| stddev|10150.384232741908|      null|108298.46579150065|20.143542243475515| 0.7337929617806063|      null|12.129215673024758|\n",
      "|    min|              1000|    1 year|               0.0|               0.0|                  0|        0%|                 2|\n",
      "|    max|             40000|       n/a|         9757200.0|             999.0|                 24|    99.90%|               160|\n",
      "+-------+------------------+----------+------------------+------------------+-------------------+----------+------------------+\n",
      "\n"
     ]
    }
   ],
   "source": [
    "df_sel.describe('loan_amnt', 'emp_length', 'annual_inc', 'dti', 'delinq_2yrs', 'revol_util',\n",
    "    'total_acc').show()"
   ]
  },
  {
   "cell_type": "code",
   "execution_count": 23,
   "id": "buried-rehabilitation",
   "metadata": {},
   "outputs": [
    {
     "name": "stdout",
     "output_type": "stream",
     "text": [
      "+-----------------+----------+\n",
      "|emplength_cleaned|emp_length|\n",
      "+-----------------+----------+\n",
      "|                1|  < 1 year|\n",
      "|               10| 10+ years|\n",
      "|                1|  < 1 year|\n",
      "|                 |       n/a|\n",
      "|                5|   5 years|\n",
      "|                9|   9 years|\n",
      "|                3|   3 years|\n",
      "|               10| 10+ years|\n",
      "|                 |       n/a|\n",
      "|               10| 10+ years|\n",
      "|                1|  < 1 year|\n",
      "|               10| 10+ years|\n",
      "|               10| 10+ years|\n",
      "|                6|   6 years|\n",
      "|                5|   5 years|\n",
      "|               10| 10+ years|\n",
      "|                2|   2 years|\n",
      "|               10| 10+ years|\n",
      "|                1|  < 1 year|\n",
      "|                6|   6 years|\n",
      "+-----------------+----------+\n",
      "only showing top 20 rows\n",
      "\n"
     ]
    }
   ],
   "source": [
    "df_sel.select(\n",
    "    regexp_extract(col('emp_length'), '\\\\d+', 0).alias('emplength_cleaned'),\n",
    "    col('emp_length')\n",
    ").show()"
   ]
  },
  {
   "cell_type": "code",
   "execution_count": 31,
   "id": "illegal-columbus",
   "metadata": {},
   "outputs": [],
   "source": [
    "df_sel = df_sel.withColumn('term_cleaned', regexp_replace(col('term'), 'months', '')).withColumn('emplen_cleaned', regexp_extract(col('emp_length'), '\\\\d+', 0))"
   ]
  },
  {
   "cell_type": "code",
   "execution_count": 32,
   "id": "controversial-canberra",
   "metadata": {},
   "outputs": [
    {
     "name": "stdout",
     "output_type": "stream",
     "text": [
      "+----------+------------+----------+--------------+\n",
      "|      term|term_cleaned|emp_length|emplen_cleaned|\n",
      "+----------+------------+----------+--------------+\n",
      "| 36 months|         36 |  < 1 year|             1|\n",
      "| 36 months|         36 | 10+ years|            10|\n",
      "| 60 months|         60 |  < 1 year|             1|\n",
      "| 60 months|         60 |       n/a|              |\n",
      "| 60 months|         60 |   5 years|             5|\n",
      "| 36 months|         36 |   9 years|             9|\n",
      "| 36 months|         36 |   3 years|             3|\n",
      "| 36 months|         36 | 10+ years|            10|\n",
      "| 36 months|         36 |       n/a|              |\n",
      "| 36 months|         36 | 10+ years|            10|\n",
      "| 60 months|         60 |  < 1 year|             1|\n",
      "| 60 months|         60 | 10+ years|            10|\n",
      "| 60 months|         60 | 10+ years|            10|\n",
      "| 36 months|         36 |   6 years|             6|\n",
      "| 60 months|         60 |   5 years|             5|\n",
      "| 60 months|         60 | 10+ years|            10|\n",
      "| 36 months|         36 |   2 years|             2|\n",
      "| 60 months|         60 | 10+ years|            10|\n",
      "| 60 months|         60 |  < 1 year|             1|\n",
      "| 36 months|         36 |   6 years|             6|\n",
      "+----------+------------+----------+--------------+\n",
      "only showing top 20 rows\n",
      "\n"
     ]
    }
   ],
   "source": [
    "df_sel.select('term', 'term_cleaned', 'emp_length', 'emplen_cleaned').show()"
   ]
  },
  {
   "cell_type": "code",
   "execution_count": 33,
   "id": "prescription-litigation",
   "metadata": {},
   "outputs": [
    {
     "name": "stdout",
     "output_type": "stream",
     "text": [
      "+------------------+-----+-----+-----+-----+----+---+---+----+\n",
      "| loan_status_grade|    A|    B|    C|    D|   E|  F|  G|null|\n",
      "+------------------+-----+-----+-----+-----+----+---+---+----+\n",
      "|   In Grace Period|   74|  112|  146|  122|  54|  4|  1|   0|\n",
      "|        Fully Paid| 1188| 1333| 1175|  807| 360| 36|  9|   0|\n",
      "|              null|    0|    0|    0|    0|   0|  0|  0|   4|\n",
      "|Late (31-120 days)|   68|  164|  234|  220| 142| 14|  7|   0|\n",
      "| Late (16-30 days)|   26|   78|  102|   81|  46|  9|  2|   0|\n",
      "|           Current|36639|34139|29323|15823|5352|321| 79|   0|\n",
      "|       Charged Off|   16|   35|   38|   19|   8|  3|  3|   0|\n",
      "+------------------+-----+-----+-----+-----+----+---+---+----+\n",
      "\n"
     ]
    }
   ],
   "source": [
    "df_sel.stat.crosstab('loan_status', 'grade').show()"
   ]
  },
  {
   "cell_type": "code",
   "execution_count": 37,
   "id": "genetic-challenge",
   "metadata": {},
   "outputs": [],
   "source": [
    "freq = df_sel.stat.freqItems(['purpose', 'grade'], 0.3)"
   ]
  },
  {
   "cell_type": "code",
   "execution_count": 39,
   "id": "precious-settle",
   "metadata": {},
   "outputs": [
    {
     "data": {
      "text/plain": [
       "[Row(purpose_freqItems=['debt_consolidation', 'credit_card', None], grade_freqItems=['A', 'C', 'B'])]"
      ]
     },
     "execution_count": 39,
     "metadata": {},
     "output_type": "execute_result"
    }
   ],
   "source": [
    "freq.collect()"
   ]
  },
  {
   "cell_type": "code",
   "execution_count": 41,
   "id": "governmental-montgomery",
   "metadata": {},
   "outputs": [
    {
     "name": "stdout",
     "output_type": "stream",
     "text": [
      "+------------------+-----+\n",
      "|           purpose|count|\n",
      "+------------------+-----+\n",
      "|debt_consolidation|70603|\n",
      "|       credit_card|34961|\n",
      "|  home_improvement| 7512|\n",
      "|             other| 7094|\n",
      "|    major_purchase| 2303|\n",
      "|           medical| 1499|\n",
      "|    small_business| 1051|\n",
      "|               car| 1037|\n",
      "|             house|  823|\n",
      "|          vacation|  802|\n",
      "|            moving|  656|\n",
      "|  renewable_energy|   71|\n",
      "|              null|    4|\n",
      "+------------------+-----+\n",
      "\n"
     ]
    }
   ],
   "source": [
    "df_sel.groupby('purpose').count().orderBy(col('count').desc()).show()"
   ]
  },
  {
   "cell_type": "code",
   "execution_count": 49,
   "id": "abstract-psychiatry",
   "metadata": {},
   "outputs": [
    {
     "data": {
      "text/plain": [
       "[8000.0, 13000.0, 20000.0, 30000.0]"
      ]
     },
     "execution_count": 49,
     "metadata": {},
     "output_type": "execute_result"
    }
   ],
   "source": [
    "quantile_probs = [0.25, 0.5, 0.75, 0.9]\n",
    "rel_err = 0.05\n",
    "df_sel.stat.approxQuantile('loan_amnt', quantile_probs, rel_err)"
   ]
  },
  {
   "cell_type": "code",
   "execution_count": 51,
   "id": "alpine-campaign",
   "metadata": {},
   "outputs": [
    {
     "data": {
      "text/plain": [
       "[1000.0, 1000.0, 40000.0, 40000.0]"
      ]
     },
     "execution_count": 51,
     "metadata": {},
     "output_type": "execute_result"
    }
   ],
   "source": [
    "quantile_probs = [0.25, 0.5, 0.75, 0.9]\n",
    "rel_err = 0.5\n",
    "df_sel.stat.approxQuantile('loan_amnt', quantile_probs, rel_err)"
   ]
  },
  {
   "cell_type": "code",
   "execution_count": 52,
   "id": "enhanced-implementation",
   "metadata": {},
   "outputs": [
    {
     "name": "stdout",
     "output_type": "stream",
     "text": [
      "+----+--------------+-----+-------+--------+----------+-----------+----------------+---------+----------+----------+---+-----------+----------+---------+------------------+---------+------------+------+--------------+\n",
      "|term|home_ownership|grade|purpose|int_rate|addr_state|loan_status|application_type|loan_amnt|emp_length|annual_inc|dti|delinq_2yrs|revol_util|total_acc|num_tl_90g_dpd_24m|dti_joint|term_cleaned|emplen|emplen_cleaned|\n",
      "+----+--------------+-----+-------+--------+----------+-----------+----------------+---------+----------+----------+---+-----------+----------+---------+------------------+---------+------------+------+--------------+\n",
      "|   4|             4|    4|      4|       4|         4|          4|               4|        4|         4|         4|241|          4|       160|        4|                 4|   111634|           4|     4|             4|\n",
      "+----+--------------+-----+-------+--------+----------+-----------+----------------+---------+----------+----------+---+-----------+----------+---------+------------------+---------+------------+------+--------------+\n",
      "\n"
     ]
    }
   ],
   "source": [
    "df_sel.select([count(when(isnan(colmn) | col(colmn).isNull(), colmn)).alias(colmn) for colmn in df_sel.columns]).show()"
   ]
  },
  {
   "cell_type": "code",
   "execution_count": 53,
   "id": "closed-roller",
   "metadata": {},
   "outputs": [],
   "source": [
    "df_sel = df_sel.na.drop('all', subset=['loan_status'])"
   ]
  },
  {
   "cell_type": "code",
   "execution_count": 54,
   "id": "interesting-length",
   "metadata": {},
   "outputs": [
    {
     "name": "stdout",
     "output_type": "stream",
     "text": [
      "+----+--------------+-----+-------+--------+----------+-----------+----------------+---------+----------+----------+---+-----------+----------+---------+------------------+---------+------------+------+--------------+\n",
      "|term|home_ownership|grade|purpose|int_rate|addr_state|loan_status|application_type|loan_amnt|emp_length|annual_inc|dti|delinq_2yrs|revol_util|total_acc|num_tl_90g_dpd_24m|dti_joint|term_cleaned|emplen|emplen_cleaned|\n",
      "+----+--------------+-----+-------+--------+----------+-----------+----------------+---------+----------+----------+---+-----------+----------+---------+------------------+---------+------------+------+--------------+\n",
      "|   0|             0|    0|      0|       0|         0|          0|               0|        0|         0|         0|237|          0|       156|        0|                 0|   111630|           0|     0|             0|\n",
      "+----+--------------+-----+-------+--------+----------+-----------+----------------+---------+----------+----------+---+-----------+----------+---------+------------------+---------+------------+------+--------------+\n",
      "\n"
     ]
    }
   ],
   "source": [
    "df_sel.select([count(when(isnan(colmn) | col(colmn).isNull(), colmn)).alias(colmn) for colmn in df_sel.columns]).show()"
   ]
  },
  {
   "cell_type": "code",
   "execution_count": 55,
   "id": "rational-lender",
   "metadata": {},
   "outputs": [
    {
     "name": "stdout",
     "output_type": "stream",
     "text": [
      "+-------+------------------+----------+\n",
      "|summary|               dti|revol_util|\n",
      "+-------+------------------+----------+\n",
      "|  count|            128175|    128256|\n",
      "|   mean|19.933177530719757|      null|\n",
      "| stddev|20.143542243475515|      null|\n",
      "|    min|               0.0|        0%|\n",
      "|    max|             999.0|    99.90%|\n",
      "+-------+------------------+----------+\n",
      "\n"
     ]
    }
   ],
   "source": [
    "df_sel.describe('dti', 'revol_util').show()"
   ]
  },
  {
   "cell_type": "code",
   "execution_count": 57,
   "id": "average-binary",
   "metadata": {},
   "outputs": [],
   "source": [
    "df_sel = df_sel.withColumn('revolutil_cleaned', regexp_extract(col('revol_util'), '\\\\d+', 0))"
   ]
  },
  {
   "cell_type": "code",
   "execution_count": 58,
   "id": "transsexual-horse",
   "metadata": {},
   "outputs": [
    {
     "name": "stdout",
     "output_type": "stream",
     "text": [
      "+-------+----------+------------------+\n",
      "|summary|revol_util| revolutil_cleaned|\n",
      "+-------+----------+------------------+\n",
      "|  count|    128256|            128256|\n",
      "|   mean|      null| 43.76206961077844|\n",
      "| stddev|      null|24.801849528206994|\n",
      "|    min|        0%|                 0|\n",
      "|    max|    99.90%|                99|\n",
      "+-------+----------+------------------+\n",
      "\n"
     ]
    }
   ],
   "source": [
    "df_sel.describe('revol_util', 'revolutil_cleaned').show()"
   ]
  },
  {
   "cell_type": "code",
   "execution_count": 61,
   "id": "wicked-rebel",
   "metadata": {},
   "outputs": [],
   "source": [
    "def fill_avg(df, colmn):\n",
    "    return df.select(colmn).agg(avg(colmn))"
   ]
  },
  {
   "cell_type": "code",
   "execution_count": 65,
   "id": "exterior-institute",
   "metadata": {},
   "outputs": [
    {
     "name": "stdout",
     "output_type": "stream",
     "text": [
      "43.76206961077847\n"
     ]
    }
   ],
   "source": [
    "rev_avg = fill_avg(df_sel, 'revolutil_cleaned').first()[0]\n",
    "print(rev_avg)\n",
    "df_sel = df_sel.withColumn('rev_avg', lit(rev_avg))"
   ]
  },
  {
   "cell_type": "code",
   "execution_count": 63,
   "id": "transparent-moore",
   "metadata": {},
   "outputs": [],
   "source": [
    "df_sel = df_sel.withColumn('revolutil_cleaned', coalesce(col('revolutil_cleaned'), col('rev_avg')))"
   ]
  },
  {
   "cell_type": "code",
   "execution_count": 66,
   "id": "intermediate-employment",
   "metadata": {},
   "outputs": [],
   "source": [
    "df_sel = df_sel.withColumn('revolutil_cleaned', df_sel['revolutil_cleaned'].cast('double'))"
   ]
  },
  {
   "cell_type": "code",
   "execution_count": 67,
   "id": "informational-punishment",
   "metadata": {},
   "outputs": [
    {
     "name": "stdout",
     "output_type": "stream",
     "text": [
      "+-------+-----------------+----------+\n",
      "|summary|revolutil_cleaned|revol_util|\n",
      "+-------+-----------------+----------+\n",
      "|  count|           128412|    128256|\n",
      "|   mean|43.76206961077847|      null|\n",
      "| stddev|24.78677969645399|      null|\n",
      "|    min|              0.0|        0%|\n",
      "|    max|            183.0|    99.90%|\n",
      "+-------+-----------------+----------+\n",
      "\n"
     ]
    }
   ],
   "source": [
    "df_sel.describe('revolutil_cleaned', 'revol_util').show()"
   ]
  },
  {
   "cell_type": "code",
   "execution_count": 68,
   "id": "central-dream",
   "metadata": {},
   "outputs": [
    {
     "name": "stdout",
     "output_type": "stream",
     "text": [
      "+----+--------------+-----+-------+--------+----------+-----------+----------------+---------+----------+----------+---+-----------+----------+---------+------------------+---------+------------+------+--------------+-----------------+-------+\n",
      "|term|home_ownership|grade|purpose|int_rate|addr_state|loan_status|application_type|loan_amnt|emp_length|annual_inc|dti|delinq_2yrs|revol_util|total_acc|num_tl_90g_dpd_24m|dti_joint|term_cleaned|emplen|emplen_cleaned|revolutil_cleaned|rev_avg|\n",
      "+----+--------------+-----+-------+--------+----------+-----------+----------------+---------+----------+----------+---+-----------+----------+---------+------------------+---------+------------+------+--------------+-----------------+-------+\n",
      "|   0|             0|    0|      0|       0|         0|          0|               0|        0|         0|         0|237|          0|       156|        0|                 0|   111630|           0|     0|             0|                0|      0|\n",
      "+----+--------------+-----+-------+--------+----------+-----------+----------------+---------+----------+----------+---+-----------+----------+---------+------------------+---------+------------+------+--------------+-----------------+-------+\n",
      "\n"
     ]
    }
   ],
   "source": [
    "df_sel.select([count(when(isnan(colmn) | col(colmn).isNull(), colmn)).alias(colmn) for colmn in df_sel.columns]).show()"
   ]
  },
  {
   "cell_type": "code",
   "execution_count": 69,
   "id": "given-siemens",
   "metadata": {},
   "outputs": [],
   "source": [
    "df_sel = df_sel.withColumn('dti_cleaned', coalesce(col('dti'), col('dti_joint')))"
   ]
  },
  {
   "cell_type": "code",
   "execution_count": 70,
   "id": "champion-mainland",
   "metadata": {},
   "outputs": [
    {
     "name": "stdout",
     "output_type": "stream",
     "text": [
      "+----+--------------+-----+-------+--------+----------+-----------+----------------+---------+----------+----------+---+-----------+----------+---------+------------------+---------+------------+------+--------------+-----------------+-------+-----------+\n",
      "|term|home_ownership|grade|purpose|int_rate|addr_state|loan_status|application_type|loan_amnt|emp_length|annual_inc|dti|delinq_2yrs|revol_util|total_acc|num_tl_90g_dpd_24m|dti_joint|term_cleaned|emplen|emplen_cleaned|revolutil_cleaned|rev_avg|dti_cleaned|\n",
      "+----+--------------+-----+-------+--------+----------+-----------+----------------+---------+----------+----------+---+-----------+----------+---------+------------------+---------+------------+------+--------------+-----------------+-------+-----------+\n",
      "|   0|             0|    0|      0|       0|         0|          0|               0|        0|         0|         0|237|          0|       156|        0|                 0|   111630|           0|     0|             0|                0|      0|          0|\n",
      "+----+--------------+-----+-------+--------+----------+-----------+----------------+---------+----------+----------+---+-----------+----------+---------+------------------+---------+------------+------+--------------+-----------------+-------+-----------+\n",
      "\n"
     ]
    }
   ],
   "source": [
    "df_sel.select([count(when(isnan(colmn) | col(colmn).isNull(), colmn)).alias(colmn) for colmn in df_sel.columns]).show()"
   ]
  },
  {
   "cell_type": "code",
   "execution_count": 72,
   "id": "ecological-electron",
   "metadata": {},
   "outputs": [
    {
     "name": "stdout",
     "output_type": "stream",
     "text": [
      "+------------------+------+\n",
      "|       loan_status| count|\n",
      "+------------------+------+\n",
      "|        Fully Paid|  4908|\n",
      "|   In Grace Period|   513|\n",
      "|       Charged Off|   122|\n",
      "|Late (31-120 days)|   849|\n",
      "|           Current|121676|\n",
      "| Late (16-30 days)|   344|\n",
      "+------------------+------+\n",
      "\n"
     ]
    }
   ],
   "source": [
    "df_sel.groupby('loan_status').count().show()"
   ]
  },
  {
   "cell_type": "code",
   "execution_count": 74,
   "id": "after-color",
   "metadata": {},
   "outputs": [
    {
     "name": "stdout",
     "output_type": "stream",
     "text": [
      "+----------+--------------+-----+------------------+--------+----------+------------------+----------------+---------+----------+----------+-----+-----------+----------+---------+------------------+---------+------------+------+--------------+-----------------+-----------------+-----------+\n",
      "|      term|home_ownership|grade|           purpose|int_rate|addr_state|       loan_status|application_type|loan_amnt|emp_length|annual_inc|  dti|delinq_2yrs|revol_util|total_acc|num_tl_90g_dpd_24m|dti_joint|term_cleaned|emplen|emplen_cleaned|revolutil_cleaned|          rev_avg|dti_cleaned|\n",
      "+----------+--------------+-----+------------------+--------+----------+------------------+----------------+---------+----------+----------+-----+-----------+----------+---------+------------------+---------+------------+------+--------------+-----------------+-----------------+-----------+\n",
      "| 36 months|          RENT|    B|debt_consolidation|  10.33%|        PA|Late (31-120 days)|      Individual|    16000|   3 years|   71000.0|16.58|          0|    11.80%|       28|                 0|     null|         36 |     3|             3|             11.0|43.76206961077847|      16.58|\n",
      "| 60 months|      MORTGAGE|    D|debt_consolidation|  22.35%|        OH|Late (31-120 days)|       Joint App|    17500|   9 years|   50000.0|36.92|          0|    35.40%|       37|                 0|    36.79|         60 |     9|             9|             35.0|43.76206961077847|      36.92|\n",
      "| 60 months|          RENT|    C|debt_consolidation|  15.02%|        NY|Late (31-120 days)|      Individual|    30000|   2 years|   90000.0|14.28|          0|    14.90%|       10|                 0|     null|         60 |     2|             2|             14.0|43.76206961077847|      14.28|\n",
      "| 36 months|      MORTGAGE|    A|debt_consolidation|   8.19%|        PA|Late (31-120 days)|      Individual|    20975|   2 years|  165000.0|24.27|          0|    16.60%|       21|                 0|     null|         36 |     2|             2|             16.0|43.76206961077847|      24.27|\n",
      "| 60 months|          RENT|    A|debt_consolidation|   8.19%|        CA|Late (31-120 days)|      Individual|    14000|  < 1 year|   65000.0|13.48|          0|    39.10%|       18|                 0|     null|         60 |     1|             1|             39.0|43.76206961077847|      13.48|\n",
      "| 36 months|          RENT|    A|debt_consolidation|   8.19%|        WA|Late (31-120 days)|      Individual|    14000|    1 year|   36000.0|25.83|          0|    73.60%|       11|                 0|     null|         36 |     1|             1|             73.0|43.76206961077847|      25.83|\n",
      "| 36 months|          RENT|    B|          vacation|  11.80%|        NC|Late (31-120 days)|      Individual|    20000|   3 years|   50000.0| 9.18|          0|    13.90%|       26|                 0|     null|         36 |     3|             3|             13.0|43.76206961077847|       9.18|\n",
      "| 36 months|          RENT|    B|debt_consolidation|  11.80%|        NJ|Late (31-120 days)|      Individual|    32000|  < 1 year|   50000.0|  6.1|          0|    50.30%|       28|                 0|     null|         36 |     1|             1|             50.0|43.76206961077847|        6.1|\n",
      "| 36 months|           OWN|    E|             other|  26.31%|        IN|Late (31-120 days)|      Individual|     9100|   3 years|   62000.0|13.38|          0|    12.10%|       23|                 0|     null|         36 |     3|             3|             12.0|43.76206961077847|      13.38|\n",
      "| 36 months|          RENT|    C|       credit_card|  13.56%|        OR|Late (31-120 days)|      Individual|     5000|    1 year|   50000.0|16.77|          0|    30.50%|        9|                 0|     null|         36 |     1|             1|             30.0|43.76206961077847|      16.77|\n",
      "| 60 months|          RENT|    C|    major_purchase|  14.47%|        CA|Late (31-120 days)|      Individual|    36000|   9 years|   93600.0| 4.14|          0|     0.30%|       29|                 0|     null|         60 |     9|             9|              0.0|43.76206961077847|       4.14|\n",
      "| 36 months|          RENT|    E|       credit_card|  24.37%|        NY|Late (31-120 days)|      Individual|    19500| 10+ years|   56000.0|29.83|          0|       66%|       33|                 0|     null|         36 |    10|            10|             66.0|43.76206961077847|      29.83|\n",
      "| 36 months|          RENT|    E|          vacation|  25.34%|        NY|Late (31-120 days)|      Individual|     1500|  < 1 year|   20000.0| 9.24|          0|    83.20%|        3|                 0|     null|         36 |     1|             1|             83.0|43.76206961077847|       9.24|\n",
      "| 36 months|      MORTGAGE|    E|debt_consolidation|  25.34%|        GA|Late (31-120 days)|      Individual|     3525| 10+ years|  150000.0|14.25|          0|    31.10%|       15|                 0|     null|         36 |    10|            10|             31.0|43.76206961077847|      14.25|\n",
      "| 60 months|      MORTGAGE|    C|debt_consolidation|  16.91%|        CA|Late (31-120 days)|      Individual|    11000| 10+ years|   97000.0|28.79|          0|    31.70%|       32|                 0|     null|         60 |    10|            10|             31.0|43.76206961077847|      28.79|\n",
      "| 36 months|          RENT|    C|debt_consolidation|  13.56%|        MT|Late (31-120 days)|      Individual|    11500|   8 years|   33000.0| 2.55|          0|       20%|       12|                 0|     null|         36 |     8|             8|             20.0|43.76206961077847|       2.55|\n",
      "| 36 months|      MORTGAGE|    A|debt_consolidation|   8.81%|        CA|Late (31-120 days)|      Individual|    22000|   5 years|  165000.0|15.59|          0|    46.40%|       46|                 0|     null|         36 |     5|             5|             46.0|43.76206961077847|      15.59|\n",
      "| 60 months|           OWN|    D|debt_consolidation|  17.97%|        NV|Late (31-120 days)|      Individual|    19200|   9 years|   85000.0|39.11|          4|    28.30%|       53|                 2|     null|         60 |     9|             9|             28.0|43.76206961077847|      39.11|\n",
      "| 60 months|          RENT|    B|debt_consolidation|  11.80%|        IN|Late (31-120 days)|      Individual|    40000|   5 years|  130000.0|17.88|          0|    78.30%|       16|                 0|     null|         60 |     5|             5|             78.0|43.76206961077847|      17.88|\n",
      "| 36 months|      MORTGAGE|    A|       credit_card|   6.46%|        WA|       Charged Off|      Individual|     8000| 10+ years|   55000.0|17.83|          0|    29.10%|       49|                 0|     null|         36 |    10|            10|             29.0|43.76206961077847|      17.83|\n",
      "+----------+--------------+-----+------------------+--------+----------+------------------+----------------+---------+----------+----------+-----+-----------+----------+---------+------------------+---------+------------+------+--------------+-----------------+-----------------+-----------+\n",
      "only showing top 20 rows\n",
      "\n"
     ]
    }
   ],
   "source": [
    "df_sel.where(df_sel['loan_status'].isin(['Late (16-30 days)', 'Charged Off', 'In Grace Period', 'Late (31-120 days)'])).show()"
   ]
  },
  {
   "cell_type": "code",
   "execution_count": 75,
   "id": "relevant-queensland",
   "metadata": {},
   "outputs": [],
   "source": [
    "df_sel = df_sel.withColumn(\n",
    "    'bad_loan', \n",
    "    when(\n",
    "        df_sel['loan_status'].isin(['Late (16-30 days)', 'Charged Off', 'In Grace Period', 'Late (31-120 days)']), \n",
    "        'Yes'\n",
    "    ).otherwise('No')\n",
    ")"
   ]
  },
  {
   "cell_type": "code",
   "execution_count": 76,
   "id": "intelligent-volunteer",
   "metadata": {},
   "outputs": [
    {
     "name": "stdout",
     "output_type": "stream",
     "text": [
      "+--------+------+\n",
      "|bad_loan| count|\n",
      "+--------+------+\n",
      "|      No|126584|\n",
      "|     Yes|  1828|\n",
      "+--------+------+\n",
      "\n"
     ]
    }
   ],
   "source": [
    "df_sel.groupby('bad_loan').count().show()"
   ]
  },
  {
   "cell_type": "code",
   "execution_count": 77,
   "id": "obvious-agreement",
   "metadata": {},
   "outputs": [],
   "source": [
    "df_sel_final = df_sel.drop('revol_util', 'dti', 'dti_joint')"
   ]
  },
  {
   "cell_type": "code",
   "execution_count": 78,
   "id": "mounted-persian",
   "metadata": {},
   "outputs": [
    {
     "name": "stdout",
     "output_type": "stream",
     "text": [
      "root\n",
      " |-- term: string (nullable = true)\n",
      " |-- home_ownership: string (nullable = true)\n",
      " |-- grade: string (nullable = true)\n",
      " |-- purpose: string (nullable = true)\n",
      " |-- int_rate: string (nullable = true)\n",
      " |-- addr_state: string (nullable = true)\n",
      " |-- loan_status: string (nullable = true)\n",
      " |-- application_type: string (nullable = true)\n",
      " |-- loan_amnt: integer (nullable = true)\n",
      " |-- emp_length: string (nullable = true)\n",
      " |-- annual_inc: double (nullable = true)\n",
      " |-- delinq_2yrs: integer (nullable = true)\n",
      " |-- total_acc: integer (nullable = true)\n",
      " |-- num_tl_90g_dpd_24m: integer (nullable = true)\n",
      " |-- term_cleaned: string (nullable = true)\n",
      " |-- emplen: string (nullable = true)\n",
      " |-- emplen_cleaned: string (nullable = true)\n",
      " |-- revolutil_cleaned: double (nullable = true)\n",
      " |-- rev_avg: double (nullable = false)\n",
      " |-- dti_cleaned: double (nullable = true)\n",
      " |-- bad_loan: string (nullable = false)\n",
      "\n"
     ]
    }
   ],
   "source": [
    "df_sel_final.printSchema()"
   ]
  },
  {
   "cell_type": "code",
   "execution_count": 79,
   "id": "regulation-inventory",
   "metadata": {},
   "outputs": [
    {
     "name": "stdout",
     "output_type": "stream",
     "text": [
      "+--------------+-----+-----+-----+-----+----+---+---+\n",
      "|bad_loan_grade|    A|    B|    C|    D|   E|  F|  G|\n",
      "+--------------+-----+-----+-----+-----+----+---+---+\n",
      "|            No|37827|35472|30498|16630|5712|357| 88|\n",
      "|           Yes|  184|  389|  520|  442| 250| 30| 13|\n",
      "+--------------+-----+-----+-----+-----+----+---+---+\n",
      "\n"
     ]
    }
   ],
   "source": [
    "df_sel_final.crosstab('bad_loan', 'grade').show()"
   ]
  },
  {
   "cell_type": "code",
   "execution_count": 80,
   "id": "equal-secret",
   "metadata": {},
   "outputs": [
    {
     "name": "stdout",
     "output_type": "stream",
     "text": [
      "+-------+------------------+\n",
      "|summary|       dti_cleaned|\n",
      "+-------+------------------+\n",
      "|  count|            128412|\n",
      "|   mean|19.930878500451705|\n",
      "| stddev| 20.12807970280371|\n",
      "|    min|               0.0|\n",
      "|    max|             999.0|\n",
      "+-------+------------------+\n",
      "\n"
     ]
    }
   ],
   "source": [
    "df_sel_final.describe('dti_cleaned').show()"
   ]
  },
  {
   "cell_type": "code",
   "execution_count": null,
   "id": "hindu-albany",
   "metadata": {},
   "outputs": [],
   "source": []
  },
  {
   "cell_type": "code",
   "execution_count": null,
   "id": "random-antique",
   "metadata": {},
   "outputs": [],
   "source": []
  }
 ],
 "metadata": {
  "kernelspec": {
   "display_name": "Python 3",
   "language": "python",
   "name": "python3"
  },
  "language_info": {
   "codemirror_mode": {
    "name": "ipython",
    "version": 3
   },
   "file_extension": ".py",
   "mimetype": "text/x-python",
   "name": "python",
   "nbconvert_exporter": "python",
   "pygments_lexer": "ipython3",
   "version": "3.7.4"
  }
 },
 "nbformat": 4,
 "nbformat_minor": 5
}
