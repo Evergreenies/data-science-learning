{
 "cells": [
  {
   "cell_type": "markdown",
   "id": "streaming-essay",
   "metadata": {},
   "source": [
    "## COVID-19 Analysis for INDIA"
   ]
  },
  {
   "cell_type": "code",
   "execution_count": 26,
   "id": "rental-uzbekistan",
   "metadata": {},
   "outputs": [],
   "source": [
    "import findspark\n",
    "findspark.init()"
   ]
  },
  {
   "cell_type": "code",
   "execution_count": 27,
   "id": "hourly-bones",
   "metadata": {
    "scrolled": true
   },
   "outputs": [],
   "source": [
    "import os\n",
    "import re\n",
    "import numpy\n",
    "import pyspark\n",
    "\n",
    "import pyspark.sql.types as ptypes\n",
    "import pyspark.sql.window as wndws\n",
    "import pyspark.sql.functions as funcs"
   ]
  },
  {
   "cell_type": "code",
   "execution_count": 28,
   "id": "curious-israeli",
   "metadata": {},
   "outputs": [],
   "source": [
    "ss = (pyspark.sql.SparkSession\n",
    "      .builder.master('local[*]')\n",
    "      .appName('Indian COVID-19 Analysis').getOrCreate())"
   ]
  },
  {
   "cell_type": "code",
   "execution_count": 29,
   "id": "sweet-steal",
   "metadata": {},
   "outputs": [
    {
     "data": {
      "text/html": [
       "\n",
       "            <div>\n",
       "                <p><b>SparkSession - in-memory</b></p>\n",
       "                \n",
       "        <div>\n",
       "            <p><b>SparkContext</b></p>\n",
       "\n",
       "            <p><a href=\"http://192.168.225.158:4040\">Spark UI</a></p>\n",
       "\n",
       "            <dl>\n",
       "              <dt>Version</dt>\n",
       "                <dd><code>v3.0.2</code></dd>\n",
       "              <dt>Master</dt>\n",
       "                <dd><code>local[*]</code></dd>\n",
       "              <dt>AppName</dt>\n",
       "                <dd><code>Indian COVID-19 Analysis</code></dd>\n",
       "            </dl>\n",
       "        </div>\n",
       "        \n",
       "            </div>\n",
       "        "
      ],
      "text/plain": [
       "<pyspark.sql.session.SparkSession at 0x7f79c47ce910>"
      ]
     },
     "execution_count": 29,
     "metadata": {},
     "output_type": "execute_result"
    }
   ],
   "source": [
    "ss"
   ]
  },
  {
   "cell_type": "code",
   "execution_count": 30,
   "id": "parental-andrew",
   "metadata": {},
   "outputs": [],
   "source": [
    "%matplotlib inline\n",
    "%config InlineBackend.rc = {'figure.figsize': (16, 6)}"
   ]
  },
  {
   "cell_type": "code",
   "execution_count": 31,
   "id": "sustained-collection",
   "metadata": {},
   "outputs": [],
   "source": [
    "def __order_df_and_add_missing_cols(df, columns_order_list, df_missing_fields):\n",
    "    \"\"\" return ordered dataFrame by the columns order list with null in missing columns \"\"\"\n",
    "    if not df_missing_fields:  # no missing fields for the df\n",
    "        return df.select(columns_order_list)\n",
    "    else:\n",
    "        columns = []\n",
    "        for colName in columns_order_list:\n",
    "            if colName not in df_missing_fields:\n",
    "                columns.append(colName)\n",
    "            else:\n",
    "                columns.append(funcs.lit(None).alias(colName))\n",
    "        return df.select(columns)\n",
    "\n",
    "\n",
    "def __add_missing_columns(df, missing_column_names):\n",
    "    \"\"\" Add missing columns as null in the end of the columns list \"\"\"\n",
    "    list_missing_columns = []\n",
    "    for col in missing_column_names:\n",
    "        list_missing_columns.append(funcs.lit(None).alias(col))\n",
    "\n",
    "    return df.select(df.schema.names + list_missing_columns)\n",
    "\n",
    "\n",
    "def __order_and_union_d_fs(left_df, right_df, left_list_miss_cols, right_list_miss_cols):\n",
    "    \"\"\" return union of data frames with ordered columns by left_df. \"\"\"\n",
    "    left_df_all_cols = __add_missing_columns(left_df, left_list_miss_cols)\n",
    "    right_df_all_cols = __order_df_and_add_missing_cols(right_df, left_df_all_cols.schema.names,\n",
    "                                                        right_list_miss_cols)\n",
    "    return left_df_all_cols.union(right_df_all_cols)\n",
    "\n",
    "\n",
    "def union_d_fs(left_df, right_df):\n",
    "    \"\"\" Union between two dataFrames, if there is a gap of column fields,\n",
    "     it will append all missing columns as nulls \"\"\"\n",
    "    # Check for None input\n",
    "    if left_df is None:\n",
    "        raise ValueError('left_df parameter should not be None')\n",
    "    if right_df is None:\n",
    "        raise ValueError('right_df parameter should not be None')\n",
    "        # For data frames with equal columns and order- regular union\n",
    "    if left_df.schema.names == right_df.schema.names:\n",
    "        return left_df.union(right_df)\n",
    "    else:  # Different columns\n",
    "        # Save dataFrame columns name list as set\n",
    "        left_df_col_list = set([st.strip() for st in left_df.schema.names])\n",
    "        right_df_col_list = set([st.strip() for st in right_df.schema.names])\n",
    "        # Diff columns between left_df and right_df\n",
    "        right_list_miss_cols = list(left_df_col_list - right_df_col_list)\n",
    "        left_list_miss_cols = list(right_df_col_list - left_df_col_list)\n",
    "        return __order_and_union_d_fs(left_df, right_df, left_list_miss_cols, right_list_miss_cols)\n"
   ]
  },
  {
   "cell_type": "code",
   "execution_count": 32,
   "id": "polar-webster",
   "metadata": {},
   "outputs": [],
   "source": [
    "states_and_ut = {\n",
    "    'ap': ('ap', 'andhra pradesh'), 'ar': ('ar', 'arunachal pradesh'), 'as': ('as', 'assam'),\n",
    "    'br': ('br', 'bihar'), 'cg': ('cg', 'chattisgarh', 'chhattisgarh'), 'ga': ('ga', 'goa'), \n",
    "    'gj': ('gj', 'gujarat'), 'chhattisgarh': ('cg', 'chattisgarh', 'chhattisgarh'),\n",
    "    'hr': ('hr', 'haryana'), 'hp': ('hp', 'himachal pradesh'), 'jh': ('jh', 'jharkhand'),\n",
    "    'ka': ('ka', 'karnataka'), 'kl': ('kl', 'kerela', 'kerala'), \n",
    "    'mp': ('mp', 'madhya pradesh'), 'kerala': ('kl', 'kerela', 'kerala'),\n",
    "    'mh': ('mh', 'maharashtra'), 'mn': ('mn', 'manipur'), 'ml': ('ml', 'meghalaya'),\n",
    "    'mz': ('mz', 'mizoram'), 'nl': ('nl', 'nagaland'), 'or': ('or', 'odisha'), 'pb': ('pb', 'punjab'),\n",
    "    'rj': ('rj', 'rajasthan'), 'sk': ('sk', 'sikkim'), 'tn': ('tn', 'tamil nadu'),\n",
    "    'tg': ('tg', 'telangana'), 'tr': ('tr', 'tripura'), 'uk': ('uk', 'uttarakhand'),\n",
    "    'up': ('up', 'uttar pradesh'), 'wb': ('wb', 'west bengal'), 'an': ('an', 'andaman and nicobar'),\n",
    "    'ch': ('ch', 'chandigarh'), 'dn': ('dn', 'dadraand nagar haveli'), 'dd': ('dd', 'daman and diu'),\n",
    "    'dl': ('dl', 'delhi'), 'jk': ('jk', 'jammu and kashmir'), 'la': ('la', 'ladakh'),\n",
    "    'ld': ('ld', 'lakshadweep'), 'py': ('py', 'puducherry'), 'andhra pradesh': ('ap', 'andhra pradesh'),\n",
    "    'arunachal pradesh': ('ar', 'arunachal pradesh'), 'assam': ('as', 'assam'), 'bihar': ('br', 'bihar'),\n",
    "    'chattisgarh': ('cg', 'chattisgarh'), 'goa': ('ga', 'goa'), 'gujarat': ('gj', 'gujarat'),\n",
    "    'haryana': ('hr', 'haryana'), 'himachal pradesh': ('hp', 'himachal pradesh'),\n",
    "    'jharkhand': ('jh', 'jharkhand'), 'karnataka': ('ka', 'karnataka'), 'kerela': ('kl', 'kerela'),\n",
    "    'madhya pradesh': ('mp', 'madhya pradesh'), 'maharashtra': ('mh', 'maharashtra'),\n",
    "    'manipur': ('mn', 'manipur'), 'meghalaya': ('ml', 'meghalaya'), 'mizoram': ('mz', 'mizoram'),\n",
    "    'nagaland': ('nl', 'nagaland'), 'odisha': ('or', 'odisha'), 'punjab': ('pb', 'punjab'),\n",
    "    'rajasthan': ('rj', 'rajasthan'), 'sikkim': ('sk', 'sikkim'), 'tamil nadu': ('tn', 'tamil nadu'),\n",
    "    'telangana': ('tg', 'telangana'), 'tripura': ('tr', 'tripura'), 'uttarakhand': ('uk', 'uttarakhand'),\n",
    "    'uttar pradesh': ('up', 'uttar pradesh'), 'west bengal': ('wb', 'west bengal'),\n",
    "    'andaman and nicobar': ('an', 'andaman and nicobar', 'andaman and nicobar islands'),\n",
    "    'andaman and nicobar islands': ('an', 'andaman and nicobar', 'andaman and nicobar islands'),\n",
    "    'chandigarh': ('ch', 'chandigarh'),\n",
    "    'dadraand nagar haveli': ('dn', 'dadraand nagar haveli'), 'daman and diu': ('dd', 'daman and diu'),\n",
    "    'delhi': ('dl', 'delhi'), 'jammu and kashmir': ('jk', 'jammu and kashmir'), 'ladakh': ('la', 'ladakh'),\n",
    "    'lakshadweep': ('ld', 'lakshadweep'), 'puducherry': ('py', 'puducherry'),\n",
    "    'un': ('un', 'state unassigned'), 'state unassigned': ('un', 'state unassigned'),\n",
    "}"
   ]
  },
  {
   "cell_type": "code",
   "execution_count": 33,
   "id": "restricted-techno",
   "metadata": {},
   "outputs": [],
   "source": [
    "def replace_column_names(df):\n",
    "    return df.select(\n",
    "        [funcs.col(cl).alias(cl.strip().lower().replace(' ', '_')) for cl in df.columns]\n",
    "    )"
   ]
  },
  {
   "cell_type": "code",
   "execution_count": 34,
   "id": "racial-invalid",
   "metadata": {},
   "outputs": [],
   "source": [
    "current_dir_path = os.path.abspath(os.path.curdir)\n",
    "csv_file_path = f'{current_dir_path}/data/source/COVID19India/raw_data1.csv'\n",
    "covid_india_df = ss.read.csv(csv_file_path, inferSchema=True, header=True, \n",
    "                             multiLine=True, quote='\"' ,escape='\"', sep=',')\n",
    "covid_india_df = replace_column_names(covid_india_df)\n",
    "\n",
    "for nth in range(2, 25):\n",
    "    tmp_csv_file_path = f'{current_dir_path}/data/source/COVID19India/raw_data{nth}.csv'\n",
    "    tmp_covid_india_df = ss.read.csv(tmp_csv_file_path,  header=True, multiLine=True, \n",
    "                                     inferSchema=True, quote='\"' ,escape='\"', sep=',')\n",
    "    tmp_covid_india_df = replace_column_names(tmp_covid_india_df)\n",
    "    covid_india_df = union_d_fs(covid_india_df, tmp_covid_india_df)"
   ]
  },
  {
   "cell_type": "code",
   "execution_count": 35,
   "id": "otherwise-berkeley",
   "metadata": {},
   "outputs": [
    {
     "name": "stdout",
     "output_type": "stream",
     "text": [
      "root\n",
      " |-- patient_number: string (nullable = true)\n",
      " |-- state_patient_number: string (nullable = true)\n",
      " |-- date_announced: string (nullable = true)\n",
      " |-- estimated_onset_date: string (nullable = true)\n",
      " |-- age_bracket: string (nullable = true)\n",
      " |-- gender: string (nullable = true)\n",
      " |-- detected_city: string (nullable = true)\n",
      " |-- detected_district: string (nullable = true)\n",
      " |-- detected_state: string (nullable = true)\n",
      " |-- state_code: string (nullable = true)\n",
      " |-- current_status: string (nullable = true)\n",
      " |-- notes: string (nullable = true)\n",
      " |-- contracted_from_which_patient_(suspected): string (nullable = true)\n",
      " |-- nationality: string (nullable = true)\n",
      " |-- type_of_transmission: string (nullable = true)\n",
      " |-- status_change_date: string (nullable = true)\n",
      " |-- source_1: string (nullable = true)\n",
      " |-- source_2: string (nullable = true)\n",
      " |-- source_3: string (nullable = true)\n",
      " |-- backup_notes: string (nullable = true)\n",
      " |-- num_cases: double (nullable = true)\n",
      " |-- entry_id: integer (nullable = true)\n",
      "\n"
     ]
    }
   ],
   "source": [
    "covid_india_df.printSchema()"
   ]
  },
  {
   "cell_type": "code",
   "execution_count": 36,
   "id": "convenient-twenty",
   "metadata": {},
   "outputs": [],
   "source": [
    "def correct_status(sts):\n",
    "    if not sts:\n",
    "        return sts\n",
    "    if sts.lower() == 'migrated':\n",
    "        return 'Migrated Other'\n",
    "    return sts.replace('_', ' ').title()\n",
    "\n",
    "correct_status_udf = funcs.udf(correct_status)"
   ]
  },
  {
   "cell_type": "code",
   "execution_count": 37,
   "id": "opening-unemployment",
   "metadata": {},
   "outputs": [],
   "source": [
    "def clean_age_bracket(age):\n",
    "    pattrn = r'\\d+.\\d+|\\d+'\n",
    "    age_tmp = re.findall(pattrn, str(age))\n",
    "    if (not age) and (not age_tmp):\n",
    "        return age\n",
    "    \n",
    "    # Clean values like 28-35 age\n",
    "    if age_tmp and age_tmp[0].__contains__('-'):\n",
    "        return [float(n) for n in age_tmp[0].split('-') if n][0]\n",
    "    \n",
    "    age = age.lower()\n",
    "    if age.__contains__('month'):\n",
    "        return round(((float(age_tmp[0]) * 30) / 365), 3)\n",
    "    elif age.__contains__('day'):\n",
    "        return round((float(age_tmp[0]) / 365), 3)\n",
    "    if age_tmp:\n",
    "        return float(age_tmp[0])\n",
    "    else:\n",
    "        return 'null'\n",
    "\n",
    "clean_age_bracket_udf = funcs.udf(clean_age_bracket)"
   ]
  },
  {
   "cell_type": "code",
   "execution_count": 38,
   "id": "soviet-moment",
   "metadata": {},
   "outputs": [],
   "source": [
    "def clear_gender(txt):\n",
    "    if not txt:\n",
    "        return txt\n",
    "    elif txt.lower().strip() in ['non-binary', 'na']:\n",
    "        return 'Other'\n",
    "    elif txt.lower().strip() in ['m', 'm,', 'male']:\n",
    "        return 'Male'\n",
    "    else:\n",
    "        return 'Female'\n",
    "\n",
    "clear_gender_udf = funcs.udf(clear_gender)"
   ]
  },
  {
   "cell_type": "code",
   "execution_count": 39,
   "id": "union-groove",
   "metadata": {},
   "outputs": [],
   "source": [
    "def clean_notes(txt):\n",
    "    if not txt:\n",
    "        return txt\n",
    "    elif txt.lower().strip().__contains__('travel'):\n",
    "        return 'Yes'\n",
    "    return 'No'\n",
    "\n",
    "clean_notes_udf = funcs.udf(clean_notes)"
   ]
  },
  {
   "cell_type": "code",
   "execution_count": 40,
   "id": "latest-vaccine",
   "metadata": {},
   "outputs": [],
   "source": [
    "def cleaning_states_and_codes_udf(st_cd, st_nm, op_type='code'):\n",
    "    \n",
    "    if not any([st_cd, st_nm]):\n",
    "        return st_cd if (op_type == 'code') else st_nm\n",
    "    \n",
    "    def text_cleaner(txt):\n",
    "        return txt.lower().strip()\n",
    "    \n",
    "    def validate_text(txt, index=0):\n",
    "        searched = states_and_ut.get(txt, [])\n",
    "        if txt in searched:\n",
    "            return searched[index].title() if (index==1) else searched[index].upper()\n",
    "    \n",
    "    if op_type == 'code':\n",
    "        if st_cd:\n",
    "            cld_cd = text_cleaner(st_cd)\n",
    "            vld_cd = validate_text(cld_cd)\n",
    "            if vld_cd:\n",
    "                return vld_cd\n",
    "        elif st_nm:\n",
    "            cld_st = text_cleaner(st_nm)\n",
    "            vld_st = validate_text(cld_st)\n",
    "            if vld_st:\n",
    "                return vld_st\n",
    "        return st_cd\n",
    "    elif op_type == 'state':\n",
    "        if st_nm:\n",
    "            cld_nm = text_cleaner(st_nm)\n",
    "            vld_nm = validate_text(cld_nm, 1)\n",
    "            if vld_nm:\n",
    "                return vld_nm\n",
    "        elif st_cd:\n",
    "            cld_cd = text_cleaner(st_cd)\n",
    "            vld_cd = validate_text(cld_cd, 1)\n",
    "            if vld_cd:\n",
    "                return vld_cd\n",
    "        return st_nm\n",
    "\n",
    "cleaning_states_and_codes_udf = funcs.udf(cleaning_states_and_codes_udf)"
   ]
  },
  {
   "cell_type": "code",
   "execution_count": 41,
   "id": "surface-cotton",
   "metadata": {},
   "outputs": [],
   "source": [
    "covid_india_df = (\n",
    "    covid_india_df\n",
    "    .withColumn('current_status', correct_status_udf(funcs.col('current_status')))\n",
    "    .withColumn('date_announced', funcs.from_unixtime(funcs.unix_timestamp('date_announced', 'dd/MM/yyyy')))\n",
    "    .withColumn('full_weekday', funcs.date_format(funcs.col('date_announced'), 'EEEE'))\n",
    "    .withColumn('month', funcs.date_format(funcs.col('date_announced'), 'MMM'))\n",
    "    .withColumn('day_of_year', funcs.date_format(funcs.col('date_announced'), 'D').cast(ptypes.IntegerType()))\n",
    "    .withColumn('quarter_of_year', funcs.date_format(funcs.col('date_announced'), 'q').cast(ptypes.IntegerType()))\n",
    "    .withColumn('year', funcs.date_format(funcs.col('date_announced'), 'yyyy').cast(ptypes.IntegerType()))\n",
    "    .withColumn('week_of_year', funcs.weekofyear(funcs.col('date_announced')).cast(ptypes.IntegerType()))\n",
    "    .withColumn('month_and_year', funcs.date_format(funcs.col('date_announced'), 'MM-yyyy'))\n",
    "    .withColumn('age_bracket', clean_age_bracket_udf(funcs.col('age_bracket')).cast(ptypes.FloatType()))\n",
    "    .withColumn('gender', clear_gender_udf(funcs.col('gender')).cast(ptypes.StringType()))\n",
    "    .withColumn('travel', clean_notes_udf(funcs.col('notes')).cast(ptypes.StringType()))\n",
    "    .withColumn('num_cases', covid_india_df['num_cases'].cast(ptypes.IntegerType()))\n",
    "    .withColumn('state_code', \n",
    "                cleaning_states_and_codes_udf(\n",
    "                    funcs.col('state_code'), \n",
    "                    funcs.col('detected_state'), \n",
    "                    funcs.lit('code'))\n",
    "               )\n",
    "    .withColumn('detected_state', \n",
    "                cleaning_states_and_codes_udf(\n",
    "                    funcs.col('state_code'), \n",
    "                    funcs.col('detected_state'), \n",
    "                    funcs.lit('state'))\n",
    "               )\n",
    ")"
   ]
  },
  {
   "cell_type": "code",
   "execution_count": 42,
   "id": "departmental-static",
   "metadata": {},
   "outputs": [],
   "source": [
    "covid_india_df = covid_india_df.fillna({'nationality': 'India'})"
   ]
  },
  {
   "cell_type": "code",
   "execution_count": 43,
   "id": "rental-surge",
   "metadata": {},
   "outputs": [],
   "source": [
    "covid_india_df = (covid_india_df.drop(*[\n",
    "    'estimated_onset_date', 'contracted_from_which_patient_(suspected)', 'status_change_date',\n",
    "    'type_of_transmission', 'source_1', 'source_2', 'source_3', 'backup_notes'\n",
    "]))"
   ]
  },
  {
   "cell_type": "markdown",
   "id": "greater-shepherd",
   "metadata": {},
   "source": [
    "### Check nulls"
   ]
  },
  {
   "cell_type": "code",
   "execution_count": 44,
   "id": "growing-daughter",
   "metadata": {},
   "outputs": [
    {
     "name": "stdout",
     "output_type": "stream",
     "text": [
      "+--------------+--------------------+--------------+-----------+------+-------------+-----------------+--------------+----------+--------------+------+-----------+---------+--------+------------+-----+-----------+---------------+----+------------+--------------+------+\n",
      "|patient_number|state_patient_number|date_announced|age_bracket|gender|detected_city|detected_district|detected_state|state_code|current_status| notes|nationality|num_cases|entry_id|full_weekday|month|day_of_year|quarter_of_year|year|week_of_year|month_and_year|travel|\n",
      "+--------------+--------------------+--------------+-----------+------+-------------+-----------------+--------------+----------+--------------+------+-----------+---------+--------+------------+-----+-----------+---------------+----+------------+--------------+------+\n",
      "|           312|              439537|             7|     435677|433405|       539272|            13498|            23|        23|            14|436655|          0|       20|   28187|           7|    7|          7|              7|   7|           7|             7|436655|\n",
      "+--------------+--------------------+--------------+-----------+------+-------------+-----------------+--------------+----------+--------------+------+-----------+---------+--------+------------+-----+-----------+---------------+----+------------+--------------+------+\n",
      "\n"
     ]
    }
   ],
   "source": [
    "covid_india_df.select(\n",
    "    [\n",
    "        funcs.count(\n",
    "            funcs.when((funcs.isnan(clm) | funcs.col(clm).isNull()), clm)\n",
    "        ).alias(clm) for clm in covid_india_df.columns\n",
    "    ]\n",
    ").show()"
   ]
  },
  {
   "cell_type": "markdown",
   "id": "neither-franklin",
   "metadata": {},
   "source": [
    "### Saveing all cleaned data in a single CSV file"
   ]
  },
  {
   "cell_type": "code",
   "execution_count": 45,
   "id": "dynamic-divide",
   "metadata": {},
   "outputs": [],
   "source": [
    "(covid_india_df.repartition(1).write\n",
    " .csv(f'{current_dir_path}/data/source/collected_covid19_india_data.csv', mode='overwrite', header=True))"
   ]
  },
  {
   "cell_type": "code",
   "execution_count": 46,
   "id": "floral-layer",
   "metadata": {},
   "outputs": [],
   "source": [
    "%matplotlib inline\n",
    "%config InlineBackend.rc = {'figure.figsize': (16, 6)}"
   ]
  },
  {
   "cell_type": "markdown",
   "id": "communist-maintenance",
   "metadata": {},
   "source": [
    "### State wise total cases infected by COVID-19"
   ]
  },
  {
   "cell_type": "code",
   "execution_count": 47,
   "id": "geological-microphone",
   "metadata": {},
   "outputs": [
    {
     "data": {
      "text/plain": [
       "<AxesSubplot:xlabel='State Code', ylabel='No. Of Cases'>"
      ]
     },
     "execution_count": 47,
     "metadata": {},
     "output_type": "execute_result"
    },
    {
     "data": {
      "image/png": "[encoded data removed]",
      "text/plain": [
       "<Figure size 1152x432 with 1 Axes>"
      ]
     },
     "metadata": {
      "needs_background": "light"
     },
     "output_type": "display_data"
    }
   ],
   "source": [
    "(covid_india_df\n",
    " .filter((covid_india_df['state_code'].isNotNull() & covid_india_df['detected_state'].isNotNull()))\n",
    " .groupby('detected_state').sum('num_cases')\n",
    " .sort('sum(num_cases)', ascending=False)\n",
    " .toPandas().plot(kind='bar', x='detected_state', xlabel='State Code', ylabel='No. Of Cases', legend=False))"
   ]
  },
  {
   "cell_type": "code",
   "execution_count": 48,
   "id": "physical-winner",
   "metadata": {},
   "outputs": [
    {
     "name": "stdout",
     "output_type": "stream",
     "text": [
      "+--------------------+--------------+\n",
      "|      detected_state|sum(num_cases)|\n",
      "+--------------------+--------------+\n",
      "|         Maharashtra|       4791883|\n",
      "|              Kerela|       2186513|\n",
      "|           Karnataka|       1928826|\n",
      "|      Andhra Pradesh|       1785444|\n",
      "|          Tamil Nadu|       1727071|\n",
      "|               Delhi|       1292879|\n",
      "|       Uttar Pradesh|       1212403|\n",
      "|         West Bengal|       1158299|\n",
      "|              Odisha|        677105|\n",
      "|           Rajasthan|        647376|\n",
      "|         Chattisgarh|        642119|\n",
      "|           Telangana|        603611|\n",
      "|             Gujarat|        568987|\n",
      "|             Haryana|        555486|\n",
      "|      Madhya Pradesh|        545153|\n",
      "|               Bihar|        526700|\n",
      "|               Assam|        435663|\n",
      "|              Punjab|        412088|\n",
      "|   Jammu And Kashmir|        255879|\n",
      "|           Jharkhand|        241930|\n",
      "|         Uttarakhand|        196184|\n",
      "|    Himachal Pradesh|        120347|\n",
      "|                 Goa|        112392|\n",
      "|          Puducherry|         80450|\n",
      "|             Tripura|         66892|\n",
      "|             Manipur|         58643|\n",
      "|          Chandigarh|         47338|\n",
      "|   Arunachal Pradesh|         33681|\n",
      "|           Meghalaya|         28002|\n",
      "|            Nagaland|         24448|\n",
      "|              Ladakh|         19741|\n",
      "|              Sikkim|         12362|\n",
      "| Andaman And Nicobar|         10059|\n",
      "|             Mizoram|          8880|\n",
      "|Dadra and Nagar H...|          6882|\n",
      "|         Lakshadweep|          1204|\n",
      "|    State Unassigned|             0|\n",
      "+--------------------+--------------+\n",
      "\n"
     ]
    }
   ],
   "source": [
    "(covid_india_df\n",
    " .filter((covid_india_df['state_code'].isNotNull() & covid_india_df['detected_state'].isNotNull()))\n",
    " .groupby('detected_state').sum('num_cases')\n",
    " .sort('sum(num_cases)', ascending=False).show(40))"
   ]
  },
  {
   "cell_type": "markdown",
   "id": "urban-conditioning",
   "metadata": {},
   "source": [
    "### Total number of cases as per the status"
   ]
  },
  {
   "cell_type": "code",
   "execution_count": 49,
   "id": "tough-ghana",
   "metadata": {},
   "outputs": [
    {
     "name": "stdout",
     "output_type": "stream",
     "text": [
      "+--------------+---------------+\n",
      "|current_status|total_num_cases|\n",
      "+--------------+---------------+\n",
      "|  Hospitalized|       11686103|\n",
      "|     Recovered|       11172754|\n",
      "|      Deceased|         159364|\n",
      "|Migrated Other|           4732|\n",
      "+--------------+---------------+\n",
      "\n"
     ]
    }
   ],
   "source": [
    "(covid_india_df\n",
    " .filter(covid_india_df['current_status'].isNotNull())\n",
    " .groupby('current_status').agg(\n",
    "    funcs.sum('num_cases').alias('total_num_cases')\n",
    ")).sort('total_num_cases', ascending=False).show(550)"
   ]
  },
  {
   "cell_type": "markdown",
   "id": "blond-ferry",
   "metadata": {},
   "source": [
    "### State wise status of infected"
   ]
  },
  {
   "cell_type": "code",
   "execution_count": 50,
   "id": "challenging-rings",
   "metadata": {},
   "outputs": [
    {
     "name": "stdout",
     "output_type": "stream",
     "text": [
      "+--------------+--------------+---------------+\n",
      "|detected_state|current_status|total_num_cases|\n",
      "+--------------+--------------+---------------+\n",
      "|   Maharashtra|  Hospitalized|        2504313|\n",
      "|   Maharashtra|     Recovered|        2233145|\n",
      "|        Kerela|  Hospitalized|        1105407|\n",
      "|        Kerela|     Recovered|        1076287|\n",
      "|     Karnataka|  Hospitalized|         971575|\n",
      "|     Karnataka|     Recovered|         944796|\n",
      "|Andhra Pradesh|  Hospitalized|         894042|\n",
      "|Andhra Pradesh|     Recovered|         884242|\n",
      "|    Tamil Nadu|  Hospitalized|         868360|\n",
      "|    Tamil Nadu|     Recovered|         846125|\n",
      "|         Delhi|  Hospitalized|         648868|\n",
      "|         Delhi|     Recovered|         633100|\n",
      "| Uttar Pradesh|  Hospitalized|         608067|\n",
      "| Uttar Pradesh|     Recovered|         595601|\n",
      "|   West Bengal|  Hospitalized|         580993|\n",
      "|   West Bengal|     Recovered|         567015|\n",
      "|        Odisha|  Hospitalized|         338962|\n",
      "|        Odisha|     Recovered|         336171|\n",
      "|     Rajasthan|  Hospitalized|         326022|\n",
      "|   Chattisgarh|  Hospitalized|         325670|\n",
      "+--------------+--------------+---------------+\n",
      "only showing top 20 rows\n",
      "\n"
     ]
    }
   ],
   "source": [
    "(covid_india_df\n",
    " .groupby('detected_state', 'current_status')\n",
    " .agg(funcs.sum('num_cases').alias('total_num_cases'))\n",
    ").sort('total_num_cases', ascending=False).show()"
   ]
  }
 ],
 "metadata": {
  "kernelspec": {
   "display_name": "Python 3",
   "language": "python",
   "name": "python3"
  },
  "language_info": {
   "codemirror_mode": {
    "name": "ipython",
    "version": 3
   },
   "file_extension": ".py",
   "mimetype": "text/x-python",
   "name": "python",
   "nbconvert_exporter": "python",
   "pygments_lexer": "ipython3",
   "version": "3.8.5"
  }
 },
 "nbformat": 4,
 "nbformat_minor": 5
}
